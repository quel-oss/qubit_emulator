{
 "cells": [
  {
   "cell_type": "markdown",
   "id": "ac2243e2",
   "metadata": {},
   "source": [
    "# 量子ビットのハミルトニアンエミュレーション（詳細版）\n",
    "最終更新: 2024/03/21 \n",
    "\n",
    "## ▶ 本資料の説明\n",
    "本資料は任意なハミルトニアンを持つ量子ビットをエミュレーションするための手法をいくつかまとめている。\n",
    "## ▶ セルの構成\n",
    "### セル1〜3: QuTipを使ったエミュレーション\n",
    "**特徴:** 物理レベルのことのみを考慮し設計できる。\n",
    "\n",
    "セル1: 必要なライブラリのインポート\n",
    "\n",
    "セル2: 量子ビットの設定や必要な関数\n",
    "\n",
    "セル3: 実行\n",
    "\n",
    "### セル4〜6: SciPyを使ったエミュレーション\n",
    "**特徴:** QuTipの中にあった微分方程式ソルバーを取り出している。\n",
    "\n",
    "セル4: 必要なライブラリのインポート\n",
    "\n",
    "セル5: 量子ビットの設定や必要な関数\n",
    "\n",
    "セル6: 実行\n",
    "\n",
    "\n",
    "### セル7〜10: ネイティブ実装のエミュレーション\n",
    "\n",
    "**特徴:** SciPyの内部計算を取り出し、NumPyのみ使って実装しているため、Cへの移行やハードウェア化が容易になる。\n",
    "\n",
    "セル7: 必要なライブラリのインポート\n",
    "\n",
    "セル8: 量子ビットの設定や必要な関数\n",
    "\n",
    "セル9: 実行\n",
    "\n",
    "\n",
    "**bold text**\n",
    "Italic \t\n",
    "*italicized text*\n",
    "Blockquote \t\n",
    "\n",
    "> blockquote\n",
    "\n",
    "1. First item\n",
    "2. Second item\n",
    "3. Third item"
   ]
  },
  {
   "cell_type": "code",
   "execution_count": null,
   "id": "9ede55bf",
   "metadata": {},
   "outputs": [],
   "source": []
  }
 ],
 "metadata": {
  "kernelspec": {
   "display_name": "Python 3 (ipykernel)",
   "language": "python",
   "name": "python3"
  },
  "language_info": {
   "codemirror_mode": {
    "name": "ipython",
    "version": 3
   },
   "file_extension": ".py",
   "mimetype": "text/x-python",
   "name": "python",
   "nbconvert_exporter": "python",
   "pygments_lexer": "ipython3",
   "version": "3.10.12"
  }
 },
 "nbformat": 4,
 "nbformat_minor": 5
}
